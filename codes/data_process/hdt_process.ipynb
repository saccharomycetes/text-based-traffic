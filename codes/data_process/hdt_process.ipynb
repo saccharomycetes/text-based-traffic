{
 "cells": [
  {
   "cell_type": "markdown",
   "metadata": {},
   "source": [
    "## read raw data"
   ]
  },
  {
   "cell_type": "code",
   "execution_count": 2,
   "metadata": {},
   "outputs": [],
   "source": [
    "import tqdm\n",
    "import json\n",
    "qas = []\n",
    "with open(\"../../data/hdt_raw.jsonl\")as f:\n",
    "    i = 0\n",
    "    for line in f.readlines():\n",
    "        qa = json.loads(line)\n",
    "        qa[\"id\"] = i\n",
    "        i += 1\n",
    "        qas.append(qa)"
   ]
  },
  {
   "cell_type": "code",
   "execution_count": 3,
   "metadata": {},
   "outputs": [
    {
     "name": "stdout",
     "output_type": "stream",
     "text": [
      "{'3': 38248, '4': 78772, '5': 4641, '2': 390}\n"
     ]
    }
   ],
   "source": [
    "num_cans = {}\n",
    "for qa in qas:\n",
    "    num_can = str(len(qa[\"candidates\"]))\n",
    "    if num_can in num_cans:\n",
    "        num_cans[num_can] += 1\n",
    "    else:\n",
    "        num_cans[num_can] = 1\n",
    "print(num_cans)"
   ]
  },
  {
   "cell_type": "markdown",
   "metadata": {},
   "source": [
    "## filter the answers with sign"
   ]
  },
  {
   "cell_type": "code",
   "execution_count": 4,
   "metadata": {},
   "outputs": [],
   "source": [
    "qas1 = []\n",
    "for qa in qas:\n",
    "    if qa[\"question\"].lower().find(\"sign\") == -1 or qa[\"question\"].lower().find(\"this\") == -1:\n",
    "        qas1.append(qa)"
   ]
  },
  {
   "cell_type": "markdown",
   "metadata": {},
   "source": [
    "## uniform the underlines and colon"
   ]
  },
  {
   "cell_type": "code",
   "execution_count": 5,
   "metadata": {},
   "outputs": [],
   "source": [
    "qas2 = []\n",
    "import re\n",
    "for qa in qas1:\n",
    "    pattern = re.compile(r'_+')\n",
    "    question = re.sub(pattern, \"____\", qa[\"question\"])\n",
    "    newqa = {}\n",
    "    for k, v in qa.items():\n",
    "        newqa[k] = v\n",
    "    newqa[\"question\"] = question\n",
    "    have_a_l_a = 0\n",
    "    for can in newqa[\"candidates\"]:\n",
    "        if can.find(\"All of the listed answers.\") != -1:\n",
    "            have_a_l_a = 1\n",
    "            break\n",
    "    if have_a_l_a == 0:\n",
    "        qas2.append(newqa) "
   ]
  },
  {
   "cell_type": "code",
   "execution_count": 8,
   "metadata": {},
   "outputs": [
    {
     "name": "stdout",
     "output_type": "stream",
     "text": [
      "{'3': 2398, '4': 7558, '5': 40, '2': 131}\n"
     ]
    }
   ],
   "source": [
    "questions = []\n",
    "qas22 = []\n",
    "for qa in qas2:\n",
    "    q_num = len(qa[\"candidates\"])\n",
    "    if qa[\"question\"] not in questions:\n",
    "        qas22.append(qa)\n",
    "        questions.append(qa[\"question\"])\n",
    "num_cans = {}\n",
    "for qa in qas22:\n",
    "    num_can = str(len(qa[\"candidates\"]))\n",
    "    if num_can in num_cans:\n",
    "        num_cans[num_can] += 1\n",
    "    else:\n",
    "        num_cans[num_can] = 1\n",
    "print(num_cans)"
   ]
  },
  {
   "cell_type": "markdown",
   "metadata": {},
   "source": [
    "### Split them by number of candiates"
   ]
  },
  {
   "cell_type": "code",
   "execution_count": 8,
   "metadata": {},
   "outputs": [],
   "source": [
    "qas3 = {}\n",
    "for qa in qas22:\n",
    "    num_can = str(len(qa[\"candidates\"]))\n",
    "    if num_can in qas3:\n",
    "        qas3[num_can].append(qa)\n",
    "    else:\n",
    "        qas3[num_can] = [qa]"
   ]
  },
  {
   "cell_type": "markdown",
   "metadata": {},
   "source": [
    "### Save the data"
   ]
  },
  {
   "cell_type": "code",
   "execution_count": 10,
   "metadata": {},
   "outputs": [],
   "source": [
    "import json\n",
    "for i, datas in qas3.items():\n",
    "    with open(\"../../data/hdt/\" + i + \".jsonl\", \"w\")as f:\n",
    "        for data in datas:\n",
    "            f.write(json.dumps(data))\n",
    "            f.write(\"\\n\")"
   ]
  }
 ],
 "metadata": {
  "kernelspec": {
   "display_name": "Python 3.7.10 ('jrenv')",
   "language": "python",
   "name": "python3"
  },
  "language_info": {
   "codemirror_mode": {
    "name": "ipython",
    "version": 3
   },
   "file_extension": ".py",
   "mimetype": "text/x-python",
   "name": "python",
   "nbconvert_exporter": "python",
   "pygments_lexer": "ipython3",
   "version": "3.7.10"
  },
  "orig_nbformat": 4,
  "vscode": {
   "interpreter": {
    "hash": "5bac62ed733118dd8de9c1e2917899fd0f24659b3827a5fdfb2405914a98de30"
   }
  }
 },
 "nbformat": 4,
 "nbformat_minor": 2
}
