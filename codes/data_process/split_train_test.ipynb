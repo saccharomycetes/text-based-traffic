{
 "cells": [
  {
   "cell_type": "code",
   "execution_count": 1,
   "metadata": {},
   "outputs": [
    {
     "name": "stdout",
     "output_type": "stream",
     "text": [
      "3139\n",
      "3139\n",
      "131\n",
      "2398\n",
      "7558\n",
      "40\n"
     ]
    }
   ],
   "source": [
    "import json\n",
    "import random\n",
    "files = [\"bdd/c.jsonl\", \"bdd/e.jsonl\", \"hdt/2.jsonl\", \"hdt/3.jsonl\", \"hdt/4.jsonl\", \"hdt/5.jsonl\"]\n",
    "for file in files:\n",
    "    with open(\"../../data/\" + file)as f:\n",
    "        lines = f.readlines()\n",
    "        raw_datas = [json.loads(line) for line in lines]\n",
    "        datas = []\n",
    "        for raw_data in raw_datas:\n",
    "            data = {}\n",
    "            if file.find(\"c\") != -1:\n",
    "                data[\"candidate\"] = [c + \" \" + raw_data[\"e\"] for c in raw_data[\"c\"]]\n",
    "            elif file.find(\"e\") != -1:\n",
    "                data[\"candidate\"] = [raw_data[\"c\"] + \" \" + e for e in raw_data[\"e\"]]\n",
    "            else:\n",
    "                if raw_data[\"question\"].find(\"____\") != -1:\n",
    "                    data[\"candidate\"] = [raw_data[\"question\"].replace(\"____\", c) for c in raw_data[\"candidates\"]]\n",
    "                else:\n",
    "                    data[\"candidate\"] = [raw_data[\"question\"] + \" \" + c for c in raw_data[\"candidates\"]]\n",
    "            data[\"answer\"] = raw_data[\"answer\"]\n",
    "            data[\"id\"] = raw_data[\"id\"]\n",
    "            datas.append(data)\n",
    "        indexs = [i for i in range(len(datas))]\n",
    "        train_indexs = random.sample(indexs, int(0.9*len(datas)))\n",
    "        test_indexs = list(set(indexs)-set(train_indexs))\n",
    "        print(len(datas))\n",
    "    with open(\"../../data/supervised/\" + file.split(\".\")[0] + \"/train.jsonl\", \"w\")as f:\n",
    "        for i in train_indexs:\n",
    "            f.write(json.dumps(datas[i]))\n",
    "            f.write(\"\\n\")\n",
    "    with open(\"../../data/supervised/\" + file.split(\".\")[0] + \"/test.jsonl\", \"w\")as f:\n",
    "        for i in test_indexs:\n",
    "            f.write(json.dumps(datas[i]))\n",
    "            f.write(\"\\n\")"
   ]
  }
 ],
 "metadata": {
  "kernelspec": {
   "display_name": "Python 3.7.10 ('jrenv')",
   "language": "python",
   "name": "python3"
  },
  "language_info": {
   "codemirror_mode": {
    "name": "ipython",
    "version": 3
   },
   "file_extension": ".py",
   "mimetype": "text/x-python",
   "name": "python",
   "nbconvert_exporter": "python",
   "pygments_lexer": "ipython3",
   "version": "3.7.10"
  },
  "orig_nbformat": 4,
  "vscode": {
   "interpreter": {
    "hash": "5bac62ed733118dd8de9c1e2917899fd0f24659b3827a5fdfb2405914a98de30"
   }
  }
 },
 "nbformat": 4,
 "nbformat_minor": 2
}
